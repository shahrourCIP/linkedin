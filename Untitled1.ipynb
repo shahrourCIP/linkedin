{
 "cells": [
  {
   "cell_type": "code",
   "execution_count": null,
   "id": "ebc59afe",
   "metadata": {},
   "outputs": [
    {
     "ename": "",
     "evalue": "",
     "output_type": "error",
     "traceback": [
      "\u001b[1;31mRunning cells with 'c:\\Users\\AbdalrahmanShahrour\\AppData\\Local\\Microsoft\\WindowsApps\\python3.10.exe' requires the ipykernel package.\n",
      "\u001b[1;31mRun the following command to install 'ipykernel' into the Python environment. \n",
      "\u001b[1;31mCommand: 'c:/Users/AbdalrahmanShahrour/AppData/Local/Microsoft/WindowsApps/python3.10.exe -m pip install ipykernel -U --user --force-reinstall'"
     ]
    }
   ],
   "source": [
    "import numpy as np\n",
    "import openpyxl\n",
    "import pandas as pd\n",
    "import datetime\n",
    "import requests\n",
    "from bs4 import BeautifulSoup\n",
    "from itertools import zip_longest\n",
    "\n",
    "\n",
    "import bs4\n",
    "from urllib.request import urlopen as uReq\n",
    "from bs4 import BeautifulSoup as soup"
   ]
  },
  {
   "cell_type": "code",
   "execution_count": 3,
   "id": "fb5e7c05",
   "metadata": {},
   "outputs": [],
   "source": [
    "#THIS LOCAL FILE WORKS PERFECTLY. I HAVE 12,000 HTML FILES IN THIS DIRECTORY TO PROCESS.  HOW?\n",
    "my_url = 'file:Moath Mubarak _ LinkedIn.html'\n",
    "\n",
    "uClient = uReq(my_url)\n",
    "page_html = uClient.read()\n",
    "# html parsing\n",
    "page_soup = soup(page_html, \"html.parser\")"
   ]
  },
  {
   "cell_type": "code",
   "execution_count": 8,
   "id": "b190d117",
   "metadata": {},
   "outputs": [],
   "source": [
    "# id=\"ember229\"\n",
    "name = page_soup.findAll(\"div\", {\"class\": \"artdeco-entity-lockup__title ember-view\"})# ember669"
   ]
  },
  {
   "cell_type": "code",
   "execution_count": 10,
   "id": "0489aa4b",
   "metadata": {},
   "outputs": [
    {
     "data": {
      "text/plain": [
       "'\\n        Moath Mubarak\\n\\n'"
      ]
     },
     "execution_count": 10,
     "metadata": {},
     "output_type": "execute_result"
    }
   ],
   "source": [
    "name[0].text"
   ]
  },
  {
   "cell_type": "code",
   "execution_count": 11,
   "id": "313c210a",
   "metadata": {},
   "outputs": [],
   "source": [
    "About = page_soup.findAll(\"div\", {\"class\": \"pv-shared-text-with-see-more full-width t-14 t-normal t-black display-flex align-items-center\"})"
   ]
  },
  {
   "cell_type": "code",
   "execution_count": 15,
   "id": "53a2582d",
   "metadata": {},
   "outputs": [
    {
     "name": "stdout",
     "output_type": "stream",
     "text": [
      "\n",
      "\n",
      "I'm a Software  Engineer who believes that everything is doable within the software scope. with over 12 years of experience in my career, I've developed several web solutions, Integrations,  TV app, and mobile applications. I’m able to identify and solve almost any problem. You can talk to this machine and make it do whatever you want. its limits go where your mind reaches.I'm a Software  Engineer who believes that everything is doable within the software scope. with over 12 years of experience in my career, I've developed several web solutions, Integrations,  TV app, and mobile applications. I’m able to identify and solve almost any problem. You can talk to this machine and make it do whatever you want. its limits go where your mind reaches.\n",
      "\n",
      "\n"
     ]
    }
   ],
   "source": [
    "print(About[0].text)"
   ]
  },
  {
   "cell_type": "code",
   "execution_count": 16,
   "id": "69c25021",
   "metadata": {},
   "outputs": [
    {
     "name": "stdout",
     "output_type": "stream",
     "text": [
      "\n",
      "\n",
      "- Building an integrated educational technology system that serves a range of international and local  educational programs on multiple platforms \"Web, iOS, Android, Desktop\".- Developing from scratch a complete Learning Management System & School Management System that  serves schools and universities.- Working with the Product team to shape ideas, narrow down problems and support the development  process of our products.- Helping team to deliver features aligned with the technical standards and company vision.- Managing a growing engineering team to optimize the quality and velocity of both development and operations.- Identify and measure team health indicators.- Deliver quality managed services in a consistent, timely manner.- Supporting established organizational objectives by developing goals and strategies.- Creating high-level product specifications and design documents.- Providing the development team with architectural blueprints to follow.- Guiding and assisting the development team throughout the process.- Troubleshooting and resolving issues with coding or design.- Experience in designing and building enterprise-level software.- Identify and measure team health indicators.- Deliver quality managed services in a consistent, timely manner.- Building an integrated educational technology system that serves a range of international and local \n",
      "   educational programs on multiple platforms \"Web, iOS, Android, Desktop\".\n",
      "\n",
      "- Developing from scratch a complete Learning Management System & School Management System that \n",
      "   serves schools and universities.\n",
      "\n",
      "- Working with the Product team to shape ideas, narrow down problems and support the development \n",
      "   process of our products.\n",
      "\n",
      "- Helping team to deliver features aligned with the technical standards and company vision.\n",
      "- Managing a growing engineering team to optimize the quality and velocity of both development and operations.\n",
      "- Identify and measure team health indicators.\n",
      "- Deliver quality managed services in a consistent, timely manner.\n",
      "- Supporting established organizational objectives by developing goals and strategies.\n",
      "- Creating high-level product specifications and design documents.\n",
      "- Providing the development team with architectural blueprints to follow.\n",
      "- Guiding and assisting the development team throughout the process.\n",
      "- Troubleshooting and resolving issues with coding or design.\n",
      "- Experience in designing and building enterprise-level software.\n",
      "- Identify and measure team health indicators.\n",
      "- Deliver quality managed services in a consistent, timely manner.\n",
      "\n",
      "\n"
     ]
    }
   ],
   "source": [
    "print(About[1].text)"
   ]
  },
  {
   "cell_type": "code",
   "execution_count": null,
   "id": "4e02c83b",
   "metadata": {},
   "outputs": [],
   "source": []
  }
 ],
 "metadata": {
  "kernelspec": {
   "display_name": "Python 3 (ipykernel)",
   "language": "python",
   "name": "python3"
  },
  "language_info": {
   "codemirror_mode": {
    "name": "ipython",
    "version": 3
   },
   "file_extension": ".py",
   "mimetype": "text/x-python",
   "name": "python",
   "nbconvert_exporter": "python",
   "pygments_lexer": "ipython3",
   "version": "3.10.10"
  }
 },
 "nbformat": 4,
 "nbformat_minor": 5
}
